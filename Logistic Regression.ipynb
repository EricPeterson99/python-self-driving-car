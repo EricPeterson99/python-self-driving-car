{
 "cells": [
  {
   "cell_type": "code",
   "execution_count": 18,
   "metadata": {},
   "outputs": [],
   "source": [
    "import numpy as np\n",
    "import matplotlib.pyplot as plt\n",
    "\n",
    "def draw(x1,x2):\n",
    "    ln = plt.plot(x1,x2)\n",
    "    \n",
    "def sigmoid(score):\n",
    "    return 1/(1 + np.exp(-score))\n",
    "\n",
    "def calculate_error(line_parameters, points, y):\n",
    "    m = points.shape[0]\n",
    "    p = sigmoid(points * line_parameters)\n",
    "    cross_entropy = -(1/m)*(np.log(p).T * y + np.log(1-p).T*(1-y))\n",
    "    return cross_entropy\n",
    "\n",
    "def gradient_descent(line_parameters, points, y, alpha):\n",
    "    m = points.shape[0]\n",
    "    for i in range(500):\n",
    "        p = sigmoid(points * line_parameters)\n",
    "        gradient = (points.T * (p - y))*(alpha/m)\n",
    "        line_parameters = line_parameters - gradient\n",
    "        w1 = line_parameters.item(0)\n",
    "        w2 = line_parameters.item(1)\n",
    "        b = line_parameters.item(2)\n",
    "        x1 = np.array([points[: , 0].min(), points[: , 0].max()])\n",
    "        x2 = -b/w2 + x1 * (-w1/w2)\n",
    "    draw(x1, x2)\n",
    "\n",
    "n_pts = 100\n",
    "np.random.seed(0) #Keep random numbers the same each time\n",
    "bias = np.ones(n_pts)\n",
    "top_region = np.array([np.random.normal(10, 2, n_pts), np.random.normal(12, 2, n_pts), bias]).T  #Generate random top points using standard distribution \n",
    "bottom_region = np.array([np.random.normal(5, 2, n_pts), np.random.normal(6, 2, n_pts), bias]).T #Generate bottom points\n",
    "all_points = np.vstack((top_region, bottom_region))\n",
    "line_parameters = np.matrix(np.zeros(3)).T\n",
    "#w1x1 + w2x2 + b = 0\n",
    "y = np.array([np.zeros(n_pts), np.ones(n_pts)]).reshape(n_pts*2,1)\n",
    "\n",
    "\n",
    "_, ax = plt.subplots(figsize=(4,4))\n",
    "ax.scatter(top_region[: , 0], top_region[:, 1], color = 'r')   #place points\n",
    "ax.scatter(bottom_region[: , 0], bottom_region[:, 1], color = 'b')\n",
    "gradient_descent(line_parameters, all_points, y, 0.06)\n",
    "plt.show"
   ]
  },
  {
   "cell_type": "code",
   "execution_count": 60,
   "metadata": {},
   "outputs": [],
   "source": [
    "def draw(x1,x2):\n",
    "    ln = plt.plot(x1,x2)\n",
    "    \n",
    "def sigmoid(score):\n",
    "    return 1/(1 + np.exp(-score))\n",
    "\n",
    "def calculate_error(line_parameters, points, y):\n",
    "    m = points.shape[0]\n",
    "    p = sigmoid(points * line_parameters)\n",
    "    cross_entropy = -(1/m)*(np.log(p).T * y + np.log(1-p).T*(1-y))\n",
    "    return cross_entropy\n",
    "\n",
    "def gradient_descent(line_parameters, points, y, alpha):\n",
    "    m = points.shape[0]\n",
    "    for i in range(500):\n",
    "        p = sigmoid(points * line_parameters)\n",
    "        gradient = (points.T * (p - y))*(alpha/m)\n",
    "        line_parameters = line_parameters - gradient\n",
    "        w1 = line_parameters.item(0)\n",
    "        w2 = line_parameters.item(1)\n",
    "        b = line_parameters.item(2)\n",
    "        x1 = np.array([points[: , 0].min(), points[: , 0].max()])\n",
    "        x2 = -b/w2 + x1 * (-w1/w2)\n",
    "    draw(x1, x2)"
   ]
  },
  {
   "cell_type": "code",
   "execution_count": 58,
   "metadata": {},
   "outputs": [],
   "source": [
    "n_pts = 100\n",
    "np.random.seed(0) #Keep random numbers the same each time\n",
    "bias = np.ones(n_pts)\n",
    "top_region = np.array([np.random.normal(10, 2, n_pts), np.random.normal(12, 2, n_pts), bias]).T  #Generate random top points using standard distribution \n",
    "bottom_region = np.array([np.random.normal(5, 2, n_pts), np.random.normal(6, 2, n_pts), bias]).T #Generate bottom points\n",
    "all_points = np.vstack((top_region, bottom_region))\n",
    "line_parameters = np.matrix(np.zeros(3)).T\n",
    "#w1x1 + w2x2 + b = 0\n",
    "y = np.array([np.zeros(n_pts), np.ones(n_pts)]).reshape(n_pts*2,1)\n"
   ]
  },
  {
   "cell_type": "code",
   "execution_count": 59,
   "metadata": {
    "scrolled": false
   },
   "outputs": [
    {
     "data": {
      "text/plain": [
       "<function matplotlib.pyplot.show(*args, **kw)>"
      ]
     },
     "execution_count": 59,
     "metadata": {},
     "output_type": "execute_result"
    },
    {
     "data": {
      "image/png": "[encoded data removed]",
      "text/plain": [
       "<Figure size 288x288 with 1 Axes>"
      ]
     },
     "metadata": {
      "needs_background": "light"
     },
     "output_type": "display_data"
    }
   ],
   "source": [
    "_, ax = plt.subplots(figsize=(4,4))\n",
    "ax.scatter(top_region[: , 0], top_region[:, 1], color = 'r')   #place points\n",
    "ax.scatter(bottom_region[: , 0], bottom_region[:, 1], color = 'b')\n",
    "gradient_descent(line_parameters, all_points, y, 0.06)\n",
    "plt.show"
   ]
  },
  {
   "cell_type": "code",
   "execution_count": 53,
   "metadata": {
    "scrolled": true
   },
   "outputs": [
    {
     "name": "stdout",
     "output_type": "stream",
     "text": [
      "[[0.69314718]]\n"
     ]
    }
   ],
   "source": [
    "print(calculate_error(line_parameters, all_points, y))"
   ]
  },
  {
   "cell_type": "code",
   "execution_count": null,
   "metadata": {},
   "outputs": [],
   "source": []
  }
 ],
 "metadata": {
  "kernelspec": {
   "display_name": "Python 3",
   "language": "python",
   "name": "python3"
  },
  "language_info": {
   "codemirror_mode": {
    "name": "ipython",
    "version": 3
   },
   "file_extension": ".py",
   "mimetype": "text/x-python",
   "name": "python",
   "nbconvert_exporter": "python",
   "pygments_lexer": "ipython3",
   "version": "3.7.5"
  }
 },
 "nbformat": 4,
 "nbformat_minor": 4
}
